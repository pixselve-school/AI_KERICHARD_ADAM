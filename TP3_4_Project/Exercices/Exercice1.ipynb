{
 "cells": [
  {
   "cell_type": "markdown",
   "metadata": {},
   "source": [
    "> This notebook is inspired by the [Keras Example](https://github.com/keras-team/keras-io/blob/master/examples/nlp/text_classification_with_transformer.py)."
   ]
  },
  {
   "cell_type": "markdown",
   "metadata": {},
   "source": [
    "### Part 1: Introduction\n",
    "\n",
    "#### Exploring Transformers with Keras\n",
    "\n",
    "Welcome to this Jupyter Notebook, where we will embark on an exciting journey to explore and understand the Transformer architecture using Keras. This notebook is tailored for the Artificial Intelligence course at ESIR – Université Rennes, focusing on practical aspects of implementing and utilizing Transformers in natural language processing (NLP).\n",
    "\n",
    "#### Background\n",
    "\n",
    "Transformers, since their introduction in the paper “Attention Is All You Need” by Vaswani et al., have revolutionized the field of NLP. Known for their efficiency in handling sequential data and their ability to capture long-range dependencies, Transformers have set new benchmarks in a wide range of NLP tasks.\n",
    "\n",
    "In this notebook, we will:\n",
    "\n",
    "- Implement a Transformer block as a Keras layer.\n",
    "- Use this Transformer for text classification.\n",
    "- Compare its performance with a traditional LSTM-based approach.\n",
    "- Experiment with different hyperparameters to understand their impact.\n",
    "\n",
    "#### Dataset\n",
    "\n",
    "We will be working with the Ohsumed dataset, a collection of medical abstracts, which presents a challenging yet insightful task for text classification. This dataset differs from the usual IMDB dataset typically used in transformer examples, providing a more domain-specific challenge.\n",
    "\n",
    "**Update**: Instead we will be using the IMDB dataset, as it requires less preprocessing and is easier to work with.\n"
   ]
  },
  {
   "cell_type": "markdown",
   "metadata": {},
   "source": [
    "\n",
    "\n",
    "### Part 2: Setup and Imports\n",
    "\n",
    "First, let's set up our environment by importing the necessary libraries. We'll need TensorFlow and its high-level API, Keras, for building and training our models. The layers submodule from Keras provides us with the necessary layers to construct our Transformer model.\n",
    "\n"
   ]
  },
  {
   "cell_type": "code",
   "execution_count": 1,
   "metadata": {},
   "outputs": [
    {
     "name": "stdout",
     "output_type": "stream",
     "text": [
      "WARNING:tensorflow:From c:\\Users\\codya\\AppData\\Local\\Programs\\Python\\Python311\\Lib\\site-packages\\keras\\src\\losses.py:2976: The name tf.losses.sparse_softmax_cross_entropy is deprecated. Please use tf.compat.v1.losses.sparse_softmax_cross_entropy instead.\n",
      "\n"
     ]
    }
   ],
   "source": [
    "\n",
    "# Importing necessary libraries\n",
    "import tensorflow as tf\n",
    "from tensorflow import keras\n",
    "from tensorflow.keras import layers\n"
   ]
  },
  {
   "cell_type": "markdown",
   "metadata": {},
   "source": [
    "\n",
    "\n",
    "TensorFlow will serve as our backend for matrix operations and neural network functionalities, while Keras will offer a user-friendly interface to build and train our models.\n",
    "\n"
   ]
  },
  {
   "cell_type": "markdown",
   "metadata": {},
   "source": [
    "\n",
    "### Part 3: Transformer Block Implementation\n",
    "\n",
    "#### Implementing the Transformer Block\n",
    "\n",
    "The core of the Transformer model is its unique architecture, which we will implement as a custom layer in Keras. The `TransformerBlock` class encapsulates the key components of the Transformer's architecture.\n"
   ]
  },
  {
   "cell_type": "code",
   "execution_count": 2,
   "metadata": {},
   "outputs": [],
   "source": [
    "class TransformerBlock(layers.Layer):\n",
    "    def __init__(self, embed_dim, num_heads, ff_dim, rate=0.1):\n",
    "        super().__init__()\n",
    "        self.att = layers.MultiHeadAttention(num_heads=num_heads, key_dim=embed_dim)\n",
    "        self.ffn = keras.Sequential(\n",
    "            [\n",
    "                layers.Dense(ff_dim, activation=\"relu\"),\n",
    "                layers.Dense(embed_dim),\n",
    "            ]\n",
    "        )\n",
    "        self.layernorm1 = layers.LayerNormalization(epsilon=1e-6)\n",
    "        self.layernorm2 = layers.LayerNormalization(epsilon=1e-6)\n",
    "        self.dropout1 = layers.Dropout(rate)\n",
    "        self.dropout2 = layers.Dropout(rate)\n",
    "\n",
    "    def call(self, inputs, training):\n",
    "        attn_output = self.att(inputs, inputs)\n",
    "        attn_output = self.dropout1(attn_output, training=training)\n",
    "        out1 = self.layernorm1(inputs + attn_output)\n",
    "        ffn_output = self.ffn(out1)\n",
    "        ffn_output = self.dropout2(ffn_output, training=training)\n",
    "        return self.layernorm2(out1 + ffn_output)"
   ]
  },
  {
   "cell_type": "markdown",
   "metadata": {},
   "source": [
    "\n",
    "#### Explanation\n",
    "\n",
    "This class is a representation of a single Transformer block, which consists of:\n",
    "\n",
    "1. **Multi-Head Attention Mechanism**: This allows the model to jointly attend to information from different representation subspaces at different positions.\n",
    "\n",
    "2. **Feed Forward Network**: A simple fully connected neural network applied to each position separately and identically.\n",
    "\n",
    "3. **Layer Normalization and Dropout**: Used for regularization and to stabilize the training process.\n",
    "\n",
    "4. **Residual Connections**: Encourage gradient flow through the network.\n",
    "\n",
    "This block can process a batch of sequences in parallel, making it highly efficient for NLP tasks.\n",
    "\n"
   ]
  },
  {
   "cell_type": "markdown",
   "metadata": {},
   "source": [
    "### Part 4: Data Preparation\n",
    "\n",
    "#### Loading the Dataset\n",
    "\n"
   ]
  },
  {
   "cell_type": "code",
   "execution_count": 3,
   "metadata": {},
   "outputs": [],
   "source": [
    "vocab_size = 20000  # Only consider the top 20k words\n",
    "maxlen = 200  # Only consider the first 200 words of each movie review\n",
    "\n",
    "(x_train, y_train), (x_val, y_val) = keras.datasets.imdb.load_data(num_words=vocab_size)\n",
    "x_train = keras.utils.pad_sequences(x_train, maxlen=maxlen)\n",
    "x_val = keras.utils.pad_sequences(x_val, maxlen=maxlen)"
   ]
  },
  {
   "cell_type": "markdown",
   "metadata": {},
   "source": [
    "\n",
    "\n",
    "### Part 5: Model Building\n",
    "\n",
    "#### Creating the Classifier Model\n",
    "\n",
    "Now, we will use the previously defined Transformer block to build our classifier model. The model architecture is designed to process the input text, apply the Transformer block, and then classify the text into appropriate categories.\n",
    "\n"
   ]
  },
  {
   "cell_type": "code",
   "execution_count": 6,
   "metadata": {},
   "outputs": [],
   "source": [
    "class TokenAndPositionEmbedding(layers.Layer):\n",
    "    def __init__(self, maxlen, vocab_size, embed_dim):\n",
    "        super().__init__()\n",
    "        self.token_emb = layers.Embedding(input_dim=vocab_size, output_dim=embed_dim)\n",
    "        self.pos_emb = layers.Embedding(input_dim=maxlen, output_dim=embed_dim)\n",
    "\n",
    "    def call(self, x):\n",
    "        maxlen = tf.shape(x)[-1]\n",
    "        positions = tf.range(start=0, limit=maxlen, delta=1)\n",
    "        positions = self.pos_emb(positions)\n",
    "        x = self.token_emb(x)\n",
    "        return x + positions\n"
   ]
  },
  {
   "cell_type": "code",
   "execution_count": 7,
   "metadata": {},
   "outputs": [],
   "source": [
    "\n",
    "embed_dim = 32  # Embedding size for each token\n",
    "num_heads = 2  # Number of attention heads\n",
    "ff_dim = 32  # Hidden layer size in feed forward network inside transformer\n",
    "\n",
    "inputs = layers.Input(shape=(maxlen,))\n",
    "embedding_layer = TokenAndPositionEmbedding(maxlen, vocab_size, embed_dim)\n",
    "x = embedding_layer(inputs)\n",
    "transformer_block = TransformerBlock(embed_dim, num_heads, ff_dim)\n",
    "x = transformer_block(x)\n",
    "x = layers.GlobalAveragePooling1D()(x)\n",
    "x = layers.Dropout(0.1)(x)\n",
    "x = layers.Dense(20, activation=\"relu\")(x)\n",
    "x = layers.Dropout(0.1)(x)\n",
    "outputs = layers.Dense(2, activation=\"softmax\")(x)\n",
    "\n",
    "model = keras.Model(inputs=inputs, outputs=outputs)"
   ]
  },
  {
   "cell_type": "markdown",
   "metadata": {},
   "source": [
    "\n",
    "\n",
    "#### Explanation\n",
    "\n",
    "In this architecture:\n",
    "\n",
    "- The `TokenAndPositionEmbedding` layer first processes the input sequences.\n",
    "- The `TransformerBlock` applies the attention mechanism and feedforward network.\n",
    "- The `GlobalAveragePooling1D` layer condenses the output from the transformer block.\n",
    "- The `Dense` layers at the end serve as a classifier on top of the transformer outputs.\n",
    "\n",
    "### Part 6: Model Compilation\n",
    "\n",
    "#### Compiling the Model\n",
    "\n",
    "After building the model, it needs to be compiled with the appropriate loss function and optimizer. Since this is a classification task, we'll use the 'sparse_categorical_crossentropy' loss.\n",
    "\n"
   ]
  },
  {
   "cell_type": "code",
   "execution_count": 11,
   "metadata": {},
   "outputs": [],
   "source": [
    "model.compile(optimizer=\"adam\", loss=\"sparse_categorical_crossentropy\", metrics=[\"accuracy\"])\n"
   ]
  },
  {
   "cell_type": "code",
   "execution_count": 14,
   "metadata": {},
   "outputs": [
    {
     "name": "stdout",
     "output_type": "stream",
     "text": [
      "Epoch 1/5\n",
      "391/391 [==============================] - 22s 56ms/step - loss: 0.1071 - accuracy: 0.9640 - val_loss: 0.4235 - val_accuracy: 0.8605\n",
      "Epoch 2/5\n",
      "391/391 [==============================] - 22s 57ms/step - loss: 0.0716 - accuracy: 0.9784 - val_loss: 0.4915 - val_accuracy: 0.8576\n",
      "Epoch 3/5\n",
      "391/391 [==============================] - 23s 59ms/step - loss: 0.0479 - accuracy: 0.9866 - val_loss: 0.6163 - val_accuracy: 0.8458\n",
      "Epoch 4/5\n",
      "391/391 [==============================] - 23s 59ms/step - loss: 0.0401 - accuracy: 0.9882 - val_loss: 0.6446 - val_accuracy: 0.8424\n",
      "Epoch 5/5\n",
      "391/391 [==============================] - 23s 60ms/step - loss: 0.0316 - accuracy: 0.9916 - val_loss: 0.7246 - val_accuracy: 0.8472\n"
     ]
    }
   ],
   "source": [
    "history = model.fit(x_train, y_train, batch_size=64, epochs=5, validation_data=(x_val, y_val))\n"
   ]
  },
  {
   "cell_type": "markdown",
   "metadata": {},
   "source": [
    "# Ploting"
   ]
  },
  {
   "cell_type": "code",
   "execution_count": 15,
   "metadata": {},
   "outputs": [
    {
     "data": {
      "image/png": "[encoded data removed]",
      "text/plain": [
       "<Figure size 640x480 with 1 Axes>"
      ]
     },
     "metadata": {},
     "output_type": "display_data"
    }
   ],
   "source": [
    "## Plotting \n",
    "import matplotlib.pyplot as plt\n",
    "\n",
    "plt.plot(history.history[\"accuracy\"], label=\"accuracy\")\n",
    "plt.plot(history.history[\"val_accuracy\"], label=\"val_accuracy\")\n",
    "plt.xlabel(\"Epoch\")\n",
    "plt.ylabel(\"Accuracy\")\n",
    "plt.ylim([0.5, 1])\n",
    "plt.legend(loc=\"lower right\")\n",
    "\n",
    "plt.show()"
   ]
  },
  {
   "cell_type": "markdown",
   "metadata": {},
   "source": [
    "# Compare with the LSTM baseline\n",
    "\n",
    "![image.png](../../TP1_2/Exercices/exo1.png)"
   ]
  },
  {
   "cell_type": "markdown",
   "metadata": {},
   "source": [
    "# Conclusion and Further Steps\n",
    "\n",
    "\n",
    "### Model Comparison: Transformer vs. LSTM\n",
    "\n",
    "#### LSTM Baseline Performance\n",
    "- **Convergence Speed**: The LSTM baseline exhibits a slower convergence rate towards achieving optimal accuracy. This can be particularly noticeable in complex tasks or with larger datasets, where the LSTM's recurrent nature might contribute to longer training times.\n",
    "- **Handling Long Sequences**: Another aspect where LSTM struggles is in processing very long sequences due to its sequential data processing nature, which might lead to issues like vanishing or exploding gradients.\n",
    "\n",
    "#### Transformer Model Advantages\n",
    "- **Faster Convergence**: In contrast to the LSTM, the Transformer model demonstrates a faster convergence to high accuracy. This efficiency is primarily due to its parallel processing capabilities and the self-attention mechanism, which allows it to learn dependencies between words irrespective of their position in the sequence.\n",
    "- **Scalability with Sequence Length**: Unlike LSTMs, Transformers handle long sequences more effectively due to their attention mechanism, which provides a global understanding of the input sequence, leading to better performance in tasks involving longer texts.\n",
    "- **Better Contextual Understanding**: The self-attention mechanism in Transformers offers a more nuanced understanding of context. It dynamically weighs the significance of different parts of the input data, which can lead to improved performance in tasks like sentiment analysis, where context plays a critical role.\n",
    "- **Flexibility and Adaptability**: Transformers have shown remarkable adaptability to a variety of tasks beyond text classification, including language translation, summarization, and even non-language tasks. This versatility makes them a valuable tool in the broader field of natural language processing and beyond.\n",
    "\n",
    "#### Conclusion\n",
    "While the LSTM provides a robust baseline, the Transformer model clearly demonstrates superior performance in terms of convergence speed, scalability, and contextual understanding, making it a more efficient and versatile choice for advanced text processing tasks.\n"
   ]
  }
 ],
 "metadata": {
  "kernelspec": {
   "display_name": "Python 3",
   "language": "python",
   "name": "python3"
  },
  "language_info": {
   "codemirror_mode": {
    "name": "ipython",
    "version": 3
   },
   "file_extension": ".py",
   "mimetype": "text/x-python",
   "name": "python",
   "nbconvert_exporter": "python",
   "pygments_lexer": "ipython3",
   "version": "3.11.4"
  }
 },
 "nbformat": 4,
 "nbformat_minor": 2
}
