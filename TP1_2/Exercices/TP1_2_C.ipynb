{
 "cells": [
  {
   "cell_type": "markdown",
   "source": [
    "# Exercise 3 : Text classification on the Ohsumed dataset\n",
    "## 1. Data loading and preprocessing\n"
   ],
   "metadata": {
    "collapsed": false
   },
   "id": "57a75571dbe76f4d"
  },
  {
   "cell_type": "code",
   "execution_count": 48,
   "id": "initial_id",
   "metadata": {
    "collapsed": true,
    "ExecuteTime": {
     "end_time": "2023-11-21T14:45:54.727110Z",
     "start_time": "2023-11-21T14:45:54.599220Z"
    }
   },
   "outputs": [],
   "source": [
    "import os\n",
    "import numpy as np\n",
    "import pandas as pd\n",
    "import matplotlib.pyplot as plt\n",
    "import os\n",
    "from collections import defaultdict\n",
    "from keras.preprocessing.text import text_to_word_sequence, Tokenizer\n",
    "from tensorflow.keras.preprocessing.sequence import pad_sequences   # to do padding or truncating\n",
    "import nltk\n",
    "from nltk.corpus import stopwords   # to get collection of stopwords\n",
    "import pandas as pd    # to load dataset\n",
    "import numpy as np     # for mathematic equation\n",
    "from nltk.corpus import stopwords   # to get collection of stopwords\n",
    "from tensorflow.keras.layers import Bidirectional, Dropout\n",
    "from sklearn.model_selection import train_test_split\n",
    "from tensorflow.keras.preprocessing.text import Tokenizer  # to encode text to int\n",
    "from tensorflow.keras.preprocessing.sequence import pad_sequences   # to do padding or truncating\n",
    "from tensorflow.keras.models import Sequential     # the model\n",
    "from tensorflow.keras.layers import Embedding, LSTM, Dense # layers of the architecture\n",
    "from tensorflow.keras.callbacks import ModelCheckpoint   # save model\n",
    "from tensorflow.keras.models import load_model   # load saved model\n",
    "import re\n",
    "import matplotlib.pyplot as plt\n"
   ]
  },
  {
   "cell_type": "code",
   "execution_count": 49,
   "outputs": [
    {
     "name": "stderr",
     "output_type": "stream",
     "text": [
      "[nltk_data] Downloading package stopwords to\n",
      "[nltk_data]     /Users/maelkerichard/nltk_data...\n",
      "[nltk_data]   Package stopwords is already up-to-date!\n"
     ]
    },
    {
     "data": {
      "text/plain": "True"
     },
     "execution_count": 49,
     "metadata": {},
     "output_type": "execute_result"
    }
   ],
   "source": [
    "nltk.download('stopwords')"
   ],
   "metadata": {
    "collapsed": false,
    "ExecuteTime": {
     "end_time": "2023-11-21T14:45:54.730298Z",
     "start_time": "2023-11-21T14:45:54.610146Z"
    }
   },
   "id": "7e17febbfbb71bb2"
  },
  {
   "cell_type": "code",
   "execution_count": 50,
   "outputs": [],
   "source": [
    "def get_info(path: str):\n",
    "    data = list(os.walk(path))[1:]\n",
    "    files = []\n",
    "    for d in data:\n",
    "        folder_name = d[0]\n",
    "        for file in d[2]:\n",
    "            files.append((folder_name.split('/')[-1], os.path.join(folder_name, file)))\n",
    "\n",
    "    d = defaultdict(int)\n",
    "    texts = defaultdict(list)\n",
    "    for (cate, file) in files:\n",
    "        with open(file, 'r') as outfile:\n",
    "            text = outfile.read()\n",
    "            texts[cate].append(text)\n",
    "            words = text_to_word_sequence(text)\n",
    "            for word in words:\n",
    "                d[word] += 1\n",
    "    words = sorted(d.items(), key=lambda x: x[1], reverse=True)\n",
    "    return (texts, words)"
   ],
   "metadata": {
    "collapsed": false,
    "ExecuteTime": {
     "end_time": "2023-11-21T14:45:54.748282Z",
     "start_time": "2023-11-21T14:45:54.614621Z"
    }
   },
   "id": "fac07068e5ee0c53"
  },
  {
   "cell_type": "code",
   "execution_count": 51,
   "outputs": [],
   "source": [
    "english_stops = set(stopwords.words('english'))"
   ],
   "metadata": {
    "collapsed": false,
    "ExecuteTime": {
     "end_time": "2023-11-21T14:45:54.748680Z",
     "start_time": "2023-11-21T14:45:54.623345Z"
    }
   },
   "id": "e537872784cc2cfb"
  },
  {
   "cell_type": "code",
   "execution_count": 52,
   "outputs": [],
   "source": [
    "def load_dataset(folder):\n",
    "\n",
    "    # LOAD DATA\n",
    "    path = '../ohsumed-first-20000-docs/' + folder\n",
    "    texts, words = get_info(path)\n",
    "    \n",
    "    # CREATE DATAFRAME\n",
    "    df = pd.DataFrame(columns=['category', 'article'])\n",
    "    for cate in texts:\n",
    "        for text in texts[cate]:\n",
    "            df = pd.concat([df, pd.DataFrame({'category': [cate], 'article': [text]})], ignore_index=True)\n",
    "    \n",
    "    # PRE-PROCESS DATA\n",
    "    df['article'] = df['article'].replace({'<.*?>': ''}, regex = True)          # remove html tag\n",
    "    df['article'] = df['article'].replace({'[^A-Za-z]': ' '}, regex = True)     # remove non alphabet\n",
    "    df['article'] = df['article'].apply(lambda article: [w for w in article.split() if w not in english_stops])  # remove stop words\n",
    "    df['article'] = df['article'].apply(lambda article: [w.lower() for w in article])   # lower case\n",
    "    \n",
    "    # ENCODE CATEGORY\n",
    "    df['category'] = df['category'].replace('C01', 0)\n",
    "    df['category'] = df['category'].replace('C02', 1)\n",
    "    df['category'] = df['category'].replace('C03', 2)\n",
    "    df['category'] = df['category'].replace('C04', 3)\n",
    "    df['category'] = df['category'].replace('C05', 4)\n",
    "    df['category'] = df['category'].replace('C06', 5)\n",
    "    df['category'] = df['category'].replace('C07', 6)\n",
    "    df['category'] = df['category'].replace('C08', 7)\n",
    "    df['category'] = df['category'].replace('C09', 8)\n",
    "    df['category'] = df['category'].replace('C10', 9)\n",
    "    df['category'] = df['category'].replace('C11', 10)\n",
    "    df['category'] = df['category'].replace('C12', 11)\n",
    "    df['category'] = df['category'].replace('C13', 12)\n",
    "    df['category'] = df['category'].replace('C14', 13)\n",
    "    df['category'] = df['category'].replace('C15', 14)\n",
    "    df['category'] = df['category'].replace('C16', 15)\n",
    "    df['category'] = df['category'].replace('C17', 16)\n",
    "    df['category'] = df['category'].replace('C18', 17)\n",
    "    df['category'] = df['category'].replace('C19', 18)\n",
    "    df['category'] = df['category'].replace('C20', 19)\n",
    "    df['category'] = df['category'].replace('C21', 20)\n",
    "    df['category'] = df['category'].replace('C22', 21)\n",
    "    df['category'] = df['category'].replace('C23', 22)\n",
    "\n",
    "    # Join words in the articles to form a single string per article\n",
    "    df['article'] = df['article'].apply(lambda x: ' '.join(x))\n",
    "\n",
    "    x_data = df['article'].tolist()\n",
    "    y_data = df['category']\n",
    "    return x_data, y_data"
   ],
   "metadata": {
    "collapsed": false,
    "ExecuteTime": {
     "end_time": "2023-11-21T14:45:54.748797Z",
     "start_time": "2023-11-21T14:45:54.636102Z"
    }
   },
   "id": "b59aae34a6021006"
  },
  {
   "cell_type": "code",
   "execution_count": 53,
   "outputs": [],
   "source": [
    "x_train, y_train = load_dataset('training')\n",
    "x_test, y_test = load_dataset('test')"
   ],
   "metadata": {
    "collapsed": false,
    "ExecuteTime": {
     "end_time": "2023-11-21T14:46:03.031309Z",
     "start_time": "2023-11-21T14:45:54.639362Z"
    }
   },
   "id": "7f5e2be9e75a50b3"
  },
  {
   "cell_type": "code",
   "execution_count": 54,
   "outputs": [],
   "source": [
    "# One-hot encode the labels\n",
    "from tensorflow.keras.utils import to_categorical\n",
    "\n",
    "NUM_CLASSES = 23  # Set this to the number of categories you have\n",
    "y_train = to_categorical(y_train, num_classes=NUM_CLASSES)\n",
    "y_test = to_categorical(y_test, num_classes=NUM_CLASSES)"
   ],
   "metadata": {
    "collapsed": false,
    "ExecuteTime": {
     "end_time": "2023-11-21T14:46:03.041291Z",
     "start_time": "2023-11-21T14:46:03.031866Z"
    }
   },
   "id": "3d28f79aba95b41a"
  },
  {
   "cell_type": "code",
   "execution_count": 55,
   "outputs": [
    {
     "data": {
      "text/plain": "array([[0., 0., 0., ..., 0., 0., 0.],\n       [0., 0., 0., ..., 0., 0., 0.],\n       [0., 0., 0., ..., 0., 0., 0.],\n       ...,\n       [0., 0., 0., ..., 0., 0., 0.],\n       [0., 0., 0., ..., 0., 0., 0.],\n       [0., 0., 0., ..., 0., 0., 0.]], dtype=float32)"
     },
     "execution_count": 55,
     "metadata": {},
     "output_type": "execute_result"
    }
   ],
   "source": [
    "y_train"
   ],
   "metadata": {
    "collapsed": false,
    "ExecuteTime": {
     "end_time": "2023-11-21T14:46:03.041593Z",
     "start_time": "2023-11-21T14:46:03.036434Z"
    }
   },
   "id": "8585cda0cb4fe87b"
  },
  {
   "cell_type": "code",
   "execution_count": 56,
   "outputs": [],
   "source": [
    "def get_max_length():\n",
    "    review_length = []\n",
    "    for article in x_train:\n",
    "        review_length.append(len(article))\n",
    "\n",
    "    return int(np.ceil(np.mean(review_length)))"
   ],
   "metadata": {
    "collapsed": false,
    "ExecuteTime": {
     "end_time": "2023-11-21T14:46:03.043165Z",
     "start_time": "2023-11-21T14:46:03.040614Z"
    }
   },
   "id": "b12a5156cf31873a"
  },
  {
   "cell_type": "code",
   "execution_count": 57,
   "outputs": [
    {
     "name": "stdout",
     "output_type": "stream",
     "text": [
      "Encoded X Train\n",
      " [[  361   242    96 ...   119    96   354]\n",
      " [14808   668   464 ...     0     0     0]\n",
      " [ 1210    74    97 ...     0     0     0]\n",
      " ...\n",
      " [  669  1092  4038 ...  2897    21   669]\n",
      " [   39   240   132 ...     0     0     0]\n",
      " [    7  1270   254 ...   276  1859 13205]] \n",
      "\n",
      "Encoded X Test\n",
      " [[   74   837   711 ...     0     0     0]\n",
      " [ 1410   552    74 ...   552   240    45]\n",
      " [ 1037  1622    77 ...     0     0     0]\n",
      " ...\n",
      " [  128    21  1422 ...    30  3395  1536]\n",
      " [21723   470 12121 ...     0     0     0]\n",
      " [ 3106  5827   449 ...     0     0     0]] \n",
      "\n",
      "Maximum review length:  112\n"
     ]
    }
   ],
   "source": [
    "# ENCODE REVIEW\n",
    "token = Tokenizer(lower=False)    # no need lower, because already lowered the data in load_data()\n",
    "token.fit_on_texts(x_train)\n",
    "x_train = token.texts_to_sequences(x_train)\n",
    "x_test = token.texts_to_sequences(x_test)\n",
    "\n",
    "max_length = get_max_length()\n",
    "\n",
    "x_train = pad_sequences(x_train, maxlen=max_length, padding='post', truncating='post')\n",
    "x_test = pad_sequences(x_test, maxlen=max_length, padding='post', truncating='post')\n",
    "\n",
    "total_words = len(token.word_index) + 1   # add 1 because of 0 padding\n",
    "\n",
    "print('Encoded X Train\\n', x_train, '\\n')\n",
    "print('Encoded X Test\\n', x_test, '\\n')\n",
    "print('Maximum review length: ', max_length)"
   ],
   "metadata": {
    "collapsed": false,
    "ExecuteTime": {
     "end_time": "2023-11-21T14:46:04.129348Z",
     "start_time": "2023-11-21T14:46:03.042797Z"
    }
   },
   "id": "ebc7693267dd2262"
  },
  {
   "cell_type": "markdown",
   "source": [
    "## Build Architecture/Model"
   ],
   "metadata": {
    "collapsed": false
   },
   "id": "2261955d925d5c3d"
  },
  {
   "cell_type": "code",
   "execution_count": 65,
   "outputs": [
    {
     "name": "stdout",
     "output_type": "stream",
     "text": [
      "Model: \"sequential_7\"\n",
      "_________________________________________________________________\n",
      " Layer (type)                Output Shape              Param #   \n",
      "=================================================================\n",
      " embedding_7 (Embedding)     (None, 112, 32)           905888    \n",
      "                                                                 \n",
      " lstm_9 (LSTM)               (None, 112, 64)           24832     \n",
      "                                                                 \n",
      " dropout_3 (Dropout)         (None, 112, 64)           0         \n",
      "                                                                 \n",
      " lstm_10 (LSTM)              (None, 64)                33024     \n",
      "                                                                 \n",
      " dropout_4 (Dropout)         (None, 64)                0         \n",
      "                                                                 \n",
      " dense_6 (Dense)             (None, 23)                1495      \n",
      "                                                                 \n",
      "=================================================================\n",
      "Total params: 965239 (3.68 MB)\n",
      "Trainable params: 965239 (3.68 MB)\n",
      "Non-trainable params: 0 (0.00 Byte)\n",
      "_________________________________________________________________\n",
      "None\n"
     ]
    }
   ],
   "source": [
    "\n",
    "# ARCHITECTURE\n",
    "EMBED_DIM = 32\n",
    "LSTM_OUT = 64\n",
    "NUM_CLASSES = 23  # Number of classes\n",
    "\n",
    "model = Sequential()\n",
    "model.add(Embedding(total_words, EMBED_DIM, input_length=max_length))\n",
    "model.add(LSTM(LSTM_OUT, return_sequences=True))\n",
    "model.add(Dropout(0.1))\n",
    "model.add(LSTM(LSTM_OUT))\n",
    "model.add(Dropout(0.1))\n",
    "model.add(Dense(NUM_CLASSES, activation='softmax'))  # Change for multiclass\n",
    "model.compile(optimizer='adam', loss='categorical_crossentropy', metrics=['accuracy'])  # Change loss function\n",
    "\n",
    "print(model.summary())"
   ],
   "metadata": {
    "collapsed": false,
    "ExecuteTime": {
     "end_time": "2023-11-21T14:55:57.362702Z",
     "start_time": "2023-11-21T14:55:56.921010Z"
    }
   },
   "id": "84d1edc8d5576bc5"
  },
  {
   "cell_type": "code",
   "execution_count": 66,
   "outputs": [],
   "source": [
    "checkpoint = ModelCheckpoint(\n",
    "    'models/LSTM.h5',\n",
    "    monitor='accuracy',\n",
    "    save_best_only=True,\n",
    "    verbose=1\n",
    ")"
   ],
   "metadata": {
    "collapsed": false,
    "ExecuteTime": {
     "end_time": "2023-11-21T14:55:59.657579Z",
     "start_time": "2023-11-21T14:55:59.621060Z"
    }
   },
   "id": "fad639e6e034c2cb"
  },
  {
   "cell_type": "code",
   "execution_count": 67,
   "outputs": [
    {
     "name": "stdout",
     "output_type": "stream",
     "text": [
      "Epoch 1/5\n",
      "82/82 [==============================] - ETA: 0s - loss: 2.8686 - accuracy: 0.1654\n",
      "Epoch 1: accuracy improved from -inf to 0.16544, saving model to models/LSTM.h5\n",
      "82/82 [==============================] - 14s 150ms/step - loss: 2.8686 - accuracy: 0.1654\n",
      "Epoch 2/5\n",
      "82/82 [==============================] - ETA: 0s - loss: 2.7672 - accuracy: 0.1851\n",
      "Epoch 2: accuracy improved from 0.16544 to 0.18509, saving model to models/LSTM.h5\n",
      "82/82 [==============================] - 10s 126ms/step - loss: 2.7672 - accuracy: 0.1851\n",
      "Epoch 3/5\n",
      "82/82 [==============================] - ETA: 0s - loss: 2.7815 - accuracy: 0.1780\n",
      "Epoch 3: accuracy did not improve from 0.18509\n",
      "82/82 [==============================] - 11s 140ms/step - loss: 2.7815 - accuracy: 0.1780\n",
      "Epoch 4/5\n",
      "82/82 [==============================] - ETA: 0s - loss: 2.7423 - accuracy: 0.2021\n",
      "Epoch 4: accuracy improved from 0.18509 to 0.20205, saving model to models/LSTM.h5\n",
      "82/82 [==============================] - 11s 132ms/step - loss: 2.7423 - accuracy: 0.2021\n",
      "Epoch 5/5\n",
      "82/82 [==============================] - ETA: 0s - loss: 2.7299 - accuracy: 0.2027\n",
      "Epoch 5: accuracy improved from 0.20205 to 0.20272, saving model to models/LSTM.h5\n",
      "82/82 [==============================] - 11s 130ms/step - loss: 2.7299 - accuracy: 0.2027\n"
     ]
    }
   ],
   "source": [
    "history = model.fit(x_train, y_train, batch_size = 128, epochs = 5, callbacks=[checkpoint])\n"
   ],
   "metadata": {
    "collapsed": false,
    "ExecuteTime": {
     "start_time": "2023-11-21T14:56:01.200218Z"
    }
   },
   "id": "bb774e289958b05c"
  },
  {
   "cell_type": "code",
   "execution_count": 75,
   "outputs": [
    {
     "name": "stdout",
     "output_type": "stream",
     "text": [
      "Found 28308 unique tokens.\n",
      "Model: \"sequential_11\"\n",
      "_________________________________________________________________\n",
      " Layer (type)                Output Shape              Param #   \n",
      "=================================================================\n",
      " embedding_11 (Embedding)    (None, 500, 100)          1000000   \n",
      "                                                                 \n",
      " lstm_17 (LSTM)              (None, 500, 128)          117248    \n",
      "                                                                 \n",
      " dropout_11 (Dropout)        (None, 500, 128)          0         \n",
      "                                                                 \n",
      " lstm_18 (LSTM)              (None, 128)               131584    \n",
      "                                                                 \n",
      " dropout_12 (Dropout)        (None, 128)               0         \n",
      "                                                                 \n",
      " dense_10 (Dense)            (None, 23)                2967      \n",
      "                                                                 \n",
      "=================================================================\n",
      "Total params: 1251799 (4.78 MB)\n",
      "Trainable params: 1251799 (4.78 MB)\n",
      "Non-trainable params: 0 (0.00 Byte)\n",
      "_________________________________________________________________\n",
      "None\n",
      "Epoch 1/10\n",
      "164/164 [==============================] - ETA: 0s - loss: 2.7924 - accuracy: 0.1737\n",
      "Epoch 1: val_accuracy improved from -inf to 0.19406, saving model to models/LSTM_improved.h5\n",
      "164/164 [==============================] - 192s 1s/step - loss: 2.7924 - accuracy: 0.1737 - val_loss: 2.6530 - val_accuracy: 0.1941\n",
      "Epoch 2/10\n"
     ]
    },
    {
     "name": "stderr",
     "output_type": "stream",
     "text": [
      "/Users/maelkerichard/Library/Python/3.9/lib/python/site-packages/keras/src/engine/training.py:3079: UserWarning: You are saving your model as an HDF5 file via `model.save()`. This file format is considered legacy. We recommend using instead the native Keras format, e.g. `model.save('my_model.keras')`.\n",
      "  saving_api.save_model(\n"
     ]
    },
    {
     "name": "stdout",
     "output_type": "stream",
     "text": [
      "164/164 [==============================] - ETA: 0s - loss: 2.5591 - accuracy: 0.2536\n",
      "Epoch 2: val_accuracy improved from 0.19406 to 0.25658, saving model to models/LSTM_improved.h5\n",
      "164/164 [==============================] - 190s 1s/step - loss: 2.5591 - accuracy: 0.2536 - val_loss: 2.5358 - val_accuracy: 0.2566\n",
      "Epoch 3/10\n",
      "164/164 [==============================] - ETA: 0s - loss: 2.3912 - accuracy: 0.2979\n",
      "Epoch 3: val_accuracy improved from 0.25658 to 0.28587, saving model to models/LSTM_improved.h5\n",
      "164/164 [==============================] - 197s 1s/step - loss: 2.3912 - accuracy: 0.2979 - val_loss: 2.4358 - val_accuracy: 0.2859\n",
      "Epoch 4/10\n",
      "164/164 [==============================] - ETA: 0s - loss: 2.2040 - accuracy: 0.3369\n",
      "Epoch 4: val_accuracy improved from 0.28587 to 0.29427, saving model to models/LSTM_improved.h5\n",
      "164/164 [==============================] - 196s 1s/step - loss: 2.2040 - accuracy: 0.3369 - val_loss: 2.3769 - val_accuracy: 0.2943\n",
      "Epoch 5/10\n",
      "164/164 [==============================] - ETA: 0s - loss: 2.0588 - accuracy: 0.3669\n",
      "Epoch 5: val_accuracy improved from 0.29427 to 0.30810, saving model to models/LSTM_improved.h5\n",
      "164/164 [==============================] - 191s 1s/step - loss: 2.0588 - accuracy: 0.3669 - val_loss: 2.3283 - val_accuracy: 0.3081\n",
      "Epoch 6/10\n",
      "164/164 [==============================] - ETA: 0s - loss: 1.9210 - accuracy: 0.4070\n",
      "Epoch 6: val_accuracy improved from 0.30810 to 0.31909, saving model to models/LSTM_improved.h5\n",
      "164/164 [==============================] - 201s 1s/step - loss: 1.9210 - accuracy: 0.4070 - val_loss: 2.3028 - val_accuracy: 0.3191\n",
      "Epoch 7/10\n",
      "164/164 [==============================] - ETA: 0s - loss: 1.7930 - accuracy: 0.4338\n",
      "Epoch 7: val_accuracy improved from 0.31909 to 0.32545, saving model to models/LSTM_improved.h5\n",
      "164/164 [==============================] - 193s 1s/step - loss: 1.7930 - accuracy: 0.4338 - val_loss: 2.3307 - val_accuracy: 0.3255\n",
      "Epoch 8/10\n",
      "164/164 [==============================] - ETA: 0s - loss: 1.7249 - accuracy: 0.4583\n",
      "Epoch 8: val_accuracy did not improve from 0.32545\n",
      "164/164 [==============================] - 196s 1s/step - loss: 1.7249 - accuracy: 0.4583 - val_loss: 2.3339 - val_accuracy: 0.3235\n",
      "Epoch 9/10\n",
      "164/164 [==============================] - ETA: 0s - loss: 1.6334 - accuracy: 0.4748\n",
      "Epoch 9: val_accuracy did not improve from 0.32545\n",
      "164/164 [==============================] - 201s 1s/step - loss: 1.6334 - accuracy: 0.4748 - val_loss: 2.3311 - val_accuracy: 0.3192\n",
      "Epoch 10/10\n",
      "164/164 [==============================] - ETA: 0s - loss: 1.5669 - accuracy: 0.4844\n",
      "Epoch 10: val_accuracy did not improve from 0.32545\n",
      "164/164 [==============================] - 192s 1s/step - loss: 1.5669 - accuracy: 0.4844 - val_loss: 2.3762 - val_accuracy: 0.3175\n"
     ]
    }
   ],
   "source": [
    "import numpy as np\n",
    "from tensorflow.keras.models import Sequential\n",
    "from tensorflow.keras.layers import Embedding, LSTM, Dense, Dropout\n",
    "from tensorflow.keras.callbacks import ModelCheckpoint\n",
    "from tensorflow.keras.preprocessing.text import Tokenizer\n",
    "from tensorflow.keras.preprocessing.sequence import pad_sequences\n",
    "from tensorflow.keras.utils import to_categorical\n",
    "from tensorflow.keras.optimizers import Adam\n",
    "import tensorflow as tf\n",
    "\n",
    "# Assuming x_train, y_train, x_test, y_test are already prepared\n",
    "x_train, y_train = load_dataset('training')\n",
    "x_test, y_test = load_dataset('test')\n",
    "\n",
    "# Hyperparameters (adjust as needed)\n",
    "MAX_VOCAB_SIZE = 10000  # Consider reducing if you have memory constraints\n",
    "EMBEDDING_DIM = 100  # Embedding dimensions\n",
    "MAX_SEQUENCE_LENGTH = 500  # Adjust based on your data\n",
    "NUM_CLASSES = 23  # Total number of classes\n",
    "LEARNING_RATE = 0.001  # Start with this, adjust if necessary\n",
    "BATCH_SIZE = 64\n",
    "EPOCHS = 10\n",
    "\n",
    "# Tokenization and Padding\n",
    "tokenizer = Tokenizer(num_words=MAX_VOCAB_SIZE)\n",
    "tokenizer.fit_on_texts(x_train)\n",
    "sequences_train = tokenizer.texts_to_sequences(x_train)\n",
    "sequences_test = tokenizer.texts_to_sequences(x_test)\n",
    "\n",
    "word_index = tokenizer.word_index\n",
    "print(f'Found {len(word_index)} unique tokens.')\n",
    "\n",
    "x_train_padded = pad_sequences(sequences_train, maxlen=MAX_SEQUENCE_LENGTH)\n",
    "x_test_padded = pad_sequences(sequences_test, maxlen=MAX_SEQUENCE_LENGTH)\n",
    "\n",
    "# One-hot encode the labels\n",
    "y_train_encoded = to_categorical(y_train, num_classes=NUM_CLASSES)\n",
    "y_test_encoded = to_categorical(y_test, num_classes=NUM_CLASSES)\n",
    "\n",
    "# Model definition\n",
    "model = Sequential()\n",
    "model.add(Embedding(MAX_VOCAB_SIZE, EMBEDDING_DIM, input_length=MAX_SEQUENCE_LENGTH))\n",
    "model.add(LSTM(128, return_sequences=True))\n",
    "model.add(Dropout(0.5))\n",
    "model.add(LSTM(128))\n",
    "model.add(Dropout(0.5))\n",
    "model.add(Dense(NUM_CLASSES, activation='softmax'))\n",
    "\n",
    "model.compile(optimizer=tf.keras.optimizers.legacy.Adam(learning_rate=LEARNING_RATE), loss='categorical_crossentropy', metrics=['accuracy'])\n",
    "print(model.summary())\n",
    "\n",
    "# Training the model\n",
    "checkpoint = ModelCheckpoint('models/LSTM_improved.h5', monitor='val_accuracy', save_best_only=True, verbose=1)\n",
    "history = model.fit(x_train_padded, y_train_encoded, batch_size=BATCH_SIZE, epochs=EPOCHS, validation_data=(x_test_padded, y_test_encoded), callbacks=[checkpoint])"
   ],
   "metadata": {
    "collapsed": false,
    "ExecuteTime": {
     "end_time": "2023-11-21T15:53:06.156093Z",
     "start_time": "2023-11-21T15:20:28.248997Z"
    }
   },
   "id": "6720ccf675a9c684"
  },
  {
   "cell_type": "code",
   "execution_count": 76,
   "outputs": [
    {
     "data": {
      "text/plain": "<Figure size 1200x600 with 1 Axes>",
      "image/png": "[encoded data removed]"
     },
     "metadata": {},
     "output_type": "display_data"
    }
   ],
   "source": [
    "# Extracting accuracy and validation accuracy\n",
    "acc = history.history['accuracy']\n",
    "val_acc = history.history['val_accuracy']\n",
    "\n",
    "# Extracting epochs\n",
    "epochs = range(1, len(acc) + 1)\n",
    "\n",
    "# Plotting training and validation accuracy\n",
    "plt.figure(figsize=(12, 6))\n",
    "plt.plot(epochs, acc, 'bo', label='Training accuracy')\n",
    "plt.plot(epochs, val_acc, 'b', label='Validation accuracy')\n",
    "plt.title('Training and Validation Accuracy')\n",
    "plt.xlabel('Epochs')\n",
    "plt.ylabel('Accuracy')\n",
    "plt.legend()\n",
    "\n",
    "plt.show()\n"
   ],
   "metadata": {
    "collapsed": false,
    "ExecuteTime": {
     "end_time": "2023-11-21T15:56:03.586321Z",
     "start_time": "2023-11-21T15:56:03.259522Z"
    }
   },
   "id": "265c2d7bc425a4b8"
  }
 ],
 "metadata": {
  "kernelspec": {
   "display_name": "Python 3",
   "language": "python",
   "name": "python3"
  },
  "language_info": {
   "codemirror_mode": {
    "name": "ipython",
    "version": 2
   },
   "file_extension": ".py",
   "mimetype": "text/x-python",
   "name": "python",
   "nbconvert_exporter": "python",
   "pygments_lexer": "ipython2",
   "version": "2.7.6"
  }
 },
 "nbformat": 4,
 "nbformat_minor": 5
}
