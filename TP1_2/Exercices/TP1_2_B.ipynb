{
 "cells": [
  {
   "cell_type": "markdown",
   "source": [
    "# Sentiment Analysis on IMDB Reviews using LSTM and Keras"
   ],
   "metadata": {
    "collapsed": false
   },
   "id": "e69b8db87807c86d"
  },
  {
   "cell_type": "code",
   "execution_count": 29,
   "id": "initial_id",
   "metadata": {
    "collapsed": true,
    "ExecuteTime": {
     "end_time": "2023-10-25T07:58:14.399487Z",
     "start_time": "2023-10-25T07:58:14.392336Z"
    }
   },
   "outputs": [],
   "source": [
    "import pandas as pd    # to load dataset\n",
    "import numpy as np     # for mathematic equation\n",
    "from nltk.corpus import stopwords   # to get collection of stopwords\n",
    "from tensorflow.keras.layers import Bidirectional, Dropout\n",
    "from sklearn.model_selection import train_test_split\n",
    "from tensorflow.keras.preprocessing.text import Tokenizer  # to encode text to int\n",
    "from tensorflow.keras.preprocessing.sequence import pad_sequences   # to do padding or truncating\n",
    "from tensorflow.keras.models import Sequential     # the model\n",
    "from tensorflow.keras.layers import Embedding, LSTM, Dense # layers of the architecture\n",
    "from tensorflow.keras.callbacks import ModelCheckpoint   # save model\n",
    "from tensorflow.keras.models import load_model   # load saved model\n",
    "import re\n",
    "import matplotlib.pyplot as plt"
   ]
  },
  {
   "cell_type": "code",
   "execution_count": 7,
   "outputs": [
    {
     "name": "stderr",
     "output_type": "stream",
     "text": [
      "[nltk_data] Downloading package stopwords to\n",
      "[nltk_data]     /Users/maelkerichard/nltk_data...\n",
      "[nltk_data]   Unzipping corpora/stopwords.zip.\n"
     ]
    },
    {
     "data": {
      "text/plain": "True"
     },
     "execution_count": 7,
     "metadata": {},
     "output_type": "execute_result"
    }
   ],
   "source": [
    "import nltk\n",
    "nltk.download('stopwords')"
   ],
   "metadata": {
    "collapsed": false,
    "ExecuteTime": {
     "end_time": "2023-10-25T07:25:38.193818Z",
     "start_time": "2023-10-25T07:25:37.977333Z"
    }
   },
   "id": "ec805c91b1b9d160"
  },
  {
   "cell_type": "code",
   "execution_count": 8,
   "outputs": [
    {
     "name": "stdout",
     "output_type": "stream",
     "text": [
      "                                                  review sentiment\n",
      "0      One of the other reviewers has mentioned that ...  positive\n",
      "1      A wonderful little production. <br /><br />The...  positive\n",
      "2      I thought this was a wonderful way to spend ti...  positive\n",
      "3      Basically there's a family where a little boy ...  negative\n",
      "4      Petter Mattei's \"Love in the Time of Money\" is...  positive\n",
      "...                                                  ...       ...\n",
      "49995  I thought this movie did a down right good job...  positive\n",
      "49996  Bad plot, bad dialogue, bad acting, idiotic di...  negative\n",
      "49997  I am a Catholic taught in parochial elementary...  negative\n",
      "49998  I'm going to have to disagree with the previou...  negative\n",
      "49999  No one expects the Star Trek movies to be high...  negative\n",
      "\n",
      "[50000 rows x 2 columns]\n"
     ]
    }
   ],
   "source": [
    "data = pd.read_csv('IMDB Dataset.csv')\n",
    "\n",
    "print(data)"
   ],
   "metadata": {
    "collapsed": false,
    "ExecuteTime": {
     "end_time": "2023-10-25T07:25:40.229560Z",
     "start_time": "2023-10-25T07:25:39.741217Z"
    }
   },
   "id": "3499d0be9074e6fd"
  },
  {
   "cell_type": "code",
   "execution_count": 9,
   "outputs": [],
   "source": [
    "english_stops = set(stopwords.words('english'))"
   ],
   "metadata": {
    "collapsed": false,
    "ExecuteTime": {
     "end_time": "2023-10-25T07:25:41.015438Z",
     "start_time": "2023-10-25T07:25:41.008786Z"
    }
   },
   "id": "abc5aec9c665c2c3"
  },
  {
   "cell_type": "markdown",
   "source": [
    "## Load and Clean Dataset\n",
    "### Encode Sentiments"
   ],
   "metadata": {
    "collapsed": false
   },
   "id": "31f7a81c4f6c863e"
  },
  {
   "cell_type": "code",
   "execution_count": 10,
   "outputs": [
    {
     "name": "stdout",
     "output_type": "stream",
     "text": [
      "Reviews\n",
      "0        [one, reviewers, mentioned, watching, oz, epis...\n",
      "1        [a, wonderful, little, production, the, filmin...\n",
      "2        [i, thought, wonderful, way, spend, time, hot,...\n",
      "3        [basically, family, little, boy, jake, thinks,...\n",
      "4        [petter, mattei, love, time, money, visually, ...\n",
      "                               ...                        \n",
      "49995    [i, thought, movie, right, good, job, it, crea...\n",
      "49996    [bad, plot, bad, dialogue, bad, acting, idioti...\n",
      "49997    [i, catholic, taught, parochial, elementary, s...\n",
      "49998    [i, going, disagree, previous, comment, side, ...\n",
      "49999    [no, one, expects, star, trek, movies, high, a...\n",
      "Name: review, Length: 50000, dtype: object \n",
      "\n",
      "Sentiment\n",
      "0        1\n",
      "1        1\n",
      "2        1\n",
      "3        0\n",
      "4        1\n",
      "        ..\n",
      "49995    1\n",
      "49996    0\n",
      "49997    0\n",
      "49998    0\n",
      "49999    0\n",
      "Name: sentiment, Length: 50000, dtype: int64\n"
     ]
    }
   ],
   "source": [
    "def load_dataset():\n",
    "    df = pd.read_csv('IMDB Dataset.csv')\n",
    "    x_data = df['review']       # Reviews/Input\n",
    "    y_data = df['sentiment']    # Sentiment/Output\n",
    "\n",
    "    # PRE-PROCESS REVIEW\n",
    "    x_data = x_data.replace({'<.*?>': ''}, regex = True)          # remove html tag\n",
    "    x_data = x_data.replace({'[^A-Za-z]': ' '}, regex = True)     # remove non alphabet\n",
    "    x_data = x_data.apply(lambda review: [w for w in review.split() if w not in english_stops])  # remove stop words\n",
    "    x_data = x_data.apply(lambda review: [w.lower() for w in review])   # lower case\n",
    "\n",
    "    # ENCODE SENTIMENT -> 0 & 1\n",
    "    y_data = y_data.replace('positive', 1)\n",
    "    y_data = y_data.replace('negative', 0)\n",
    "\n",
    "    return x_data, y_data\n",
    "\n",
    "x_data, y_data = load_dataset()\n",
    "\n",
    "print('Reviews')\n",
    "print(x_data, '\\n')\n",
    "print('Sentiment')\n",
    "print(y_data)"
   ],
   "metadata": {
    "collapsed": false,
    "ExecuteTime": {
     "end_time": "2023-10-25T07:25:53.863140Z",
     "start_time": "2023-10-25T07:25:49.786612Z"
    }
   },
   "id": "8125c1ff5e4ac7b9"
  },
  {
   "cell_type": "markdown",
   "source": [
    "### Split Dataset"
   ],
   "metadata": {
    "collapsed": false
   },
   "id": "bc41e9bb7de88b"
  },
  {
   "cell_type": "code",
   "execution_count": 11,
   "outputs": [
    {
     "name": "stdout",
     "output_type": "stream",
     "text": [
      "Train Set\n",
      "31863    [james, dickey, wonderfully, descriptive, auth...\n",
      "30714    [absolute, beginners, film, younger, generatio...\n",
      "47208    [the, movie, really, well, made, one, great, l...\n",
      "26953    [first, heartfelt, commiserations, anyone, bou...\n",
      "46809    [everyone, knows, late, night, movies, oscar, ...\n",
      "                               ...                        \n",
      "849      [exactly, sure, accuracy, movie, tell, thoroug...\n",
      "12344    [those, instant, gratification, era, horror, f...\n",
      "29709    [i, think, one, movies, i, want, rate, low, po...\n",
      "32903    [the, auteur, prince, manages, take, excellent...\n",
      "12731    [this, far, vapid, idiotic, insanely, stupid, ...\n",
      "Name: review, Length: 40000, dtype: object \n",
      "\n",
      "22899    [this, movie, standard, goofy, sci, fi, fare, ...\n",
      "24295    [i, saw, the, reader, film, festival, manhatta...\n",
      "35225    [john, boorman, deliverance, concerns, four, s...\n",
      "18006    [don, quite, know, people, complain, film, com...\n",
      "17058    [a, wonderful, film, version, best, selling, b...\n",
      "                               ...                        \n",
      "6775     [new, resolution, year, decide, write, comment...\n",
      "35876    [journey, far, side, sun, discovery, planet, s...\n",
      "12025    [it, moments, overall, i, watched, cartoon, ch...\n",
      "21158    [this, te, cartoon, instead, country, cousin, ...\n",
      "39226    [most, christmas, movies, redemption, theme, v...\n",
      "Name: review, Length: 10000, dtype: object \n",
      "\n",
      "Test Set\n",
      "31863    1\n",
      "30714    0\n",
      "47208    1\n",
      "26953    0\n",
      "46809    0\n",
      "        ..\n",
      "849      1\n",
      "12344    1\n",
      "29709    0\n",
      "32903    0\n",
      "12731    0\n",
      "Name: sentiment, Length: 40000, dtype: int64 \n",
      "\n",
      "22899    0\n",
      "24295    1\n",
      "35225    1\n",
      "18006    1\n",
      "17058    1\n",
      "        ..\n",
      "6775     0\n",
      "35876    1\n",
      "12025    0\n",
      "21158    1\n",
      "39226    1\n",
      "Name: sentiment, Length: 10000, dtype: int64\n"
     ]
    }
   ],
   "source": [
    "x_train, x_test, y_train, y_test = train_test_split(x_data, y_data, test_size = 0.2)\n",
    "\n",
    "print('Train Set')\n",
    "print(x_train, '\\n')\n",
    "print(x_test, '\\n')\n",
    "print('Test Set')\n",
    "print(y_train, '\\n')\n",
    "print(y_test)"
   ],
   "metadata": {
    "collapsed": false,
    "ExecuteTime": {
     "end_time": "2023-10-25T07:26:00.660546Z",
     "start_time": "2023-10-25T07:26:00.625052Z"
    }
   },
   "id": "fd9fc71864526696"
  },
  {
   "cell_type": "code",
   "execution_count": 12,
   "outputs": [],
   "source": [
    "def get_max_length():\n",
    "    review_length = []\n",
    "    for review in x_train:\n",
    "        review_length.append(len(review))\n",
    "\n",
    "    return int(np.ceil(np.mean(review_length)))"
   ],
   "metadata": {
    "collapsed": false,
    "ExecuteTime": {
     "end_time": "2023-10-25T07:26:06.919473Z",
     "start_time": "2023-10-25T07:26:06.896924Z"
    }
   },
   "id": "c3163d56c090ac59"
  },
  {
   "cell_type": "markdown",
   "source": [
    "## Tokenize and Pad/Truncate Reviews"
   ],
   "metadata": {
    "collapsed": false
   },
   "id": "f171e91bed8b9acc"
  },
  {
   "cell_type": "code",
   "execution_count": 13,
   "outputs": [
    {
     "name": "stdout",
     "output_type": "stream",
     "text": [
      "Encoded X Train\n",
      " [[  504 15424  1669 ...     0     0     0]\n",
      " [ 1480 21778     4 ...   180    12   628]\n",
      " [    2     3    15 ...   260    74   876]\n",
      " ...\n",
      " [    1    30     5 ...     1   378    38]\n",
      " [    2  7249  2132 ...     0     0     0]\n",
      " [    8   131  8506 ...     0     0     0]] \n",
      "\n",
      "Encoded X Test\n",
      " [[    8     3  1201 ...     0     0     0]\n",
      " [    1   122     2 ...     0     0     0]\n",
      " [  218 11768  6920 ...     0     0     0]\n",
      " ...\n",
      " [    7   295   350 ...     0     0     0]\n",
      " [    8 13367   959 ...     0     0     0]\n",
      " [  738  1055    28 ...     0     0     0]] \n",
      "\n",
      "Maximum review length:  130\n"
     ]
    }
   ],
   "source": [
    "# ENCODE REVIEW\n",
    "token = Tokenizer(lower=False)    # no need lower, because already lowered the data in load_data()\n",
    "token.fit_on_texts(x_train)\n",
    "x_train = token.texts_to_sequences(x_train)\n",
    "x_test = token.texts_to_sequences(x_test)\n",
    "\n",
    "max_length = get_max_length()\n",
    "\n",
    "x_train = pad_sequences(x_train, maxlen=max_length, padding='post', truncating='post')\n",
    "x_test = pad_sequences(x_test, maxlen=max_length, padding='post', truncating='post')\n",
    "\n",
    "total_words = len(token.word_index) + 1   # add 1 because of 0 padding\n",
    "\n",
    "print('Encoded X Train\\n', x_train, '\\n')\n",
    "print('Encoded X Test\\n', x_test, '\\n')\n",
    "print('Maximum review length: ', max_length)"
   ],
   "metadata": {
    "collapsed": false,
    "ExecuteTime": {
     "end_time": "2023-10-25T07:26:16.336985Z",
     "start_time": "2023-10-25T07:26:13.557302Z"
    }
   },
   "id": "63c056270dd8c107"
  },
  {
   "cell_type": "markdown",
   "source": [
    "## Build Architecture/Model"
   ],
   "metadata": {
    "collapsed": false
   },
   "id": "bbed3198ada482d5"
  },
  {
   "cell_type": "code",
   "execution_count": 14,
   "outputs": [
    {
     "name": "stdout",
     "output_type": "stream",
     "text": [
      "Model: \"sequential\"\n",
      "_________________________________________________________________\n",
      " Layer (type)                Output Shape              Param #   \n",
      "=================================================================\n",
      " embedding (Embedding)       (None, 130, 32)           2948032   \n",
      "                                                                 \n",
      " lstm (LSTM)                 (None, 64)                24832     \n",
      "                                                                 \n",
      " dense (Dense)               (None, 1)                 65        \n",
      "                                                                 \n",
      "=================================================================\n",
      "Total params: 2972929 (11.34 MB)\n",
      "Trainable params: 2972929 (11.34 MB)\n",
      "Non-trainable params: 0 (0.00 Byte)\n",
      "_________________________________________________________________\n",
      "None\n"
     ]
    }
   ],
   "source": [
    "# ARCHITECTURE\n",
    "EMBED_DIM = 32\n",
    "LSTM_OUT = 64\n",
    "\n",
    "model = Sequential()\n",
    "model.add(Embedding(total_words, EMBED_DIM, input_length = max_length))\n",
    "model.add(LSTM(LSTM_OUT))\n",
    "model.add(Dense(1, activation='sigmoid'))\n",
    "model.compile(optimizer = 'adam', loss = 'binary_crossentropy', metrics = ['accuracy'])\n",
    "\n",
    "print(model.summary())"
   ],
   "metadata": {
    "collapsed": false,
    "ExecuteTime": {
     "end_time": "2023-10-25T07:26:20.803716Z",
     "start_time": "2023-10-25T07:26:20.406603Z"
    }
   },
   "id": "796bc7f791e25356"
  },
  {
   "cell_type": "markdown",
   "source": [
    "## Training"
   ],
   "metadata": {
    "collapsed": false
   },
   "id": "9ed4aedb725cc173"
  },
  {
   "cell_type": "code",
   "execution_count": 15,
   "outputs": [],
   "source": [
    "checkpoint = ModelCheckpoint(\n",
    "    'models/LSTM.h5',\n",
    "    monitor='accuracy',\n",
    "    save_best_only=True,\n",
    "    verbose=1\n",
    ")"
   ],
   "metadata": {
    "collapsed": false,
    "ExecuteTime": {
     "end_time": "2023-10-25T07:26:25.263219Z",
     "start_time": "2023-10-25T07:26:25.240427Z"
    }
   },
   "id": "860912b5805359cc"
  },
  {
   "cell_type": "code",
   "execution_count": 16,
   "outputs": [
    {
     "name": "stdout",
     "output_type": "stream",
     "text": [
      "Epoch 1/5\n",
      "313/313 [==============================] - ETA: 0s - loss: 0.5305 - accuracy: 0.7125\n",
      "Epoch 1: accuracy improved from -inf to 0.71253, saving model to models/LSTM.h5\n",
      "313/313 [==============================] - 25s 78ms/step - loss: 0.5305 - accuracy: 0.7125\n",
      "Epoch 2/5\n",
      "  2/313 [..............................] - ETA: 23s - loss: 0.2019 - accuracy: 0.9414"
     ]
    },
    {
     "name": "stderr",
     "output_type": "stream",
     "text": [
      "/Users/maelkerichard/Library/Python/3.9/lib/python/site-packages/keras/src/engine/training.py:3079: UserWarning: You are saving your model as an HDF5 file via `model.save()`. This file format is considered legacy. We recommend using instead the native Keras format, e.g. `model.save('my_model.keras')`.\n",
      "  saving_api.save_model(\n"
     ]
    },
    {
     "name": "stdout",
     "output_type": "stream",
     "text": [
      "313/313 [==============================] - ETA: 0s - loss: 0.2478 - accuracy: 0.9093\n",
      "Epoch 2: accuracy improved from 0.71253 to 0.90927, saving model to models/LSTM.h5\n",
      "313/313 [==============================] - 23s 75ms/step - loss: 0.2478 - accuracy: 0.9093\n",
      "Epoch 3/5\n",
      "313/313 [==============================] - ETA: 0s - loss: 0.1339 - accuracy: 0.9567\n",
      "Epoch 3: accuracy improved from 0.90927 to 0.95673, saving model to models/LSTM.h5\n",
      "313/313 [==============================] - 23s 74ms/step - loss: 0.1339 - accuracy: 0.9567\n",
      "Epoch 4/5\n",
      "313/313 [==============================] - ETA: 0s - loss: 0.0794 - accuracy: 0.9782\n",
      "Epoch 4: accuracy improved from 0.95673 to 0.97815, saving model to models/LSTM.h5\n",
      "313/313 [==============================] - 23s 74ms/step - loss: 0.0794 - accuracy: 0.9782\n",
      "Epoch 5/5\n",
      "313/313 [==============================] - ETA: 0s - loss: 0.0536 - accuracy: 0.9855\n",
      "Epoch 5: accuracy improved from 0.97815 to 0.98555, saving model to models/LSTM.h5\n",
      "313/313 [==============================] - 24s 77ms/step - loss: 0.0536 - accuracy: 0.9855\n"
     ]
    },
    {
     "data": {
      "text/plain": "<keras.src.callbacks.History at 0x29eecde80>"
     },
     "execution_count": 16,
     "metadata": {},
     "output_type": "execute_result"
    }
   ],
   "source": [
    "model.fit(x_train, y_train, batch_size = 128, epochs = 5, callbacks=[checkpoint])\n"
   ],
   "metadata": {
    "collapsed": false,
    "ExecuteTime": {
     "end_time": "2023-10-25T07:28:28.157339Z",
     "start_time": "2023-10-25T07:26:29.171512Z"
    }
   },
   "id": "902571064f30302c"
  },
  {
   "cell_type": "markdown",
   "source": [
    "## Testing"
   ],
   "metadata": {
    "collapsed": false
   },
   "id": "5997a81694c2681e"
  },
  {
   "cell_type": "code",
   "execution_count": 22,
   "outputs": [
    {
     "name": "stdout",
     "output_type": "stream",
     "text": [
      "79/79 [==============================] - 2s 23ms/step\n"
     ]
    }
   ],
   "source": [
    "y_pred = model.predict(x_test, batch_size = 128)"
   ],
   "metadata": {
    "collapsed": false,
    "ExecuteTime": {
     "end_time": "2023-10-25T07:36:13.794665Z",
     "start_time": "2023-10-25T07:36:11.864812Z"
    }
   },
   "id": "844d7ac3a907971f"
  },
  {
   "cell_type": "code",
   "execution_count": 25,
   "outputs": [
    {
     "name": "stdout",
     "output_type": "stream",
     "text": [
      "Test Accuracy: 86.96%\n"
     ]
    }
   ],
   "source": [
    "# Convert predictions to binary (0 or 1)\n",
    "y_pred_binary = [1 if prob > 0.5 else 0 for prob in y_pred]\n",
    "\n",
    "# Compute accuracy\n",
    "accuracy = np.mean(np.array(y_pred_binary) == np.array(y_test))\n",
    "print(f\"Test Accuracy: {accuracy * 100:.2f}%\")"
   ],
   "metadata": {
    "collapsed": false,
    "ExecuteTime": {
     "end_time": "2023-10-25T07:37:11.291218Z",
     "start_time": "2023-10-25T07:37:11.283513Z"
    }
   },
   "id": "6438eefa0e43ea50"
  },
  {
   "cell_type": "code",
   "execution_count": 26,
   "outputs": [
    {
     "name": "stdout",
     "output_type": "stream",
     "text": [
      "Number of Correct Predictions: 8696\n",
      "Number of Wrong Predictions: 1304\n"
     ]
    }
   ],
   "source": [
    "# Compare predictions with actual labels\n",
    "correct_predictions = np.sum(np.array(y_pred_binary) == np.array(y_test))\n",
    "wrong_predictions = len(y_test) - correct_predictions\n",
    "\n",
    "print(f\"Number of Correct Predictions: {correct_predictions}\")\n",
    "print(f\"Number of Wrong Predictions: {wrong_predictions}\")"
   ],
   "metadata": {
    "collapsed": false,
    "ExecuteTime": {
     "end_time": "2023-10-25T07:37:45.311888Z",
     "start_time": "2023-10-25T07:37:45.265976Z"
    }
   },
   "id": "e6e6690a1f76bccf"
  },
  {
   "cell_type": "code",
   "execution_count": 27,
   "outputs": [
    {
     "name": "stdout",
     "output_type": "stream",
     "text": [
      "Test Loss: 0.5019\n"
     ]
    }
   ],
   "source": [
    "loss, _ = model.evaluate(x_test, y_test, verbose=0)  # 'verbose=0' ensures no output during evaluation\n",
    "print(f\"Test Loss: {loss:.4f}\")"
   ],
   "metadata": {
    "collapsed": false,
    "ExecuteTime": {
     "end_time": "2023-10-25T07:38:34.580747Z",
     "start_time": "2023-10-25T07:38:32.300322Z"
    }
   },
   "id": "f5514bc092e083a0"
  },
  {
   "cell_type": "markdown",
   "source": [
    "La loss de test est 0.5019 et le training loss est de 0.532. Le modèle underfit légèrement."
   ],
   "metadata": {
    "collapsed": false
   },
   "id": "45612bfc654395c3"
  },
  {
   "cell_type": "markdown",
   "source": [
    "## Improving the Model\n"
   ],
   "metadata": {
    "collapsed": false
   },
   "id": "3b445edf850e4f0f"
  },
  {
   "cell_type": "code",
   "execution_count": 30,
   "outputs": [],
   "source": [
    "# Splitting the data into training and validation sets\n",
    "x_train, x_val, y_train, y_val = train_test_split(x_train, y_train, test_size=0.1)"
   ],
   "metadata": {
    "collapsed": false,
    "ExecuteTime": {
     "end_time": "2023-10-25T07:58:34.620465Z",
     "start_time": "2023-10-25T07:58:34.600823Z"
    }
   },
   "id": "1bf1434c62c70bd3"
  },
  {
   "cell_type": "code",
   "execution_count": 31,
   "outputs": [],
   "source": [
    "def build_model(architecture_type):\n",
    "    model = Sequential()\n",
    "\n",
    "    if architecture_type == 'basic_lstm':\n",
    "        model.add(Embedding(total_words, EMBED_DIM, input_length=max_length))\n",
    "        model.add(LSTM(LSTM_OUT))\n",
    "        model.add(Dense(1, activation='sigmoid'))\n",
    "\n",
    "    elif architecture_type == 'deeper_lstm':\n",
    "        model.add(Embedding(total_words, EMBED_DIM, input_length=max_length))\n",
    "        model.add(LSTM(LSTM_OUT, return_sequences=True))\n",
    "        model.add(LSTM(LSTM_OUT))\n",
    "        model.add(Dense(1, activation='sigmoid'))\n",
    "\n",
    "    elif architecture_type == 'bidirectional_lstm':\n",
    "        model.add(Embedding(total_words, EMBED_DIM, input_length=max_length))\n",
    "        model.add(Bidirectional(LSTM(LSTM_OUT)))\n",
    "        model.add(Dense(1, activation='sigmoid'))\n",
    "\n",
    "    elif architecture_type == 'lstm_with_dropout':\n",
    "        model.add(Embedding(total_words, EMBED_DIM, input_length=max_length))\n",
    "        model.add(LSTM(LSTM_OUT, dropout=0.25, recurrent_dropout=0.25))\n",
    "        model.add(Dense(1, activation='sigmoid'))\n",
    "\n",
    "    # ... add more architectures as needed\n",
    "\n",
    "    model.compile(optimizer='adam', loss='binary_crossentropy', metrics=['accuracy'])\n",
    "    return model\n"
   ],
   "metadata": {
    "collapsed": false,
    "ExecuteTime": {
     "end_time": "2023-10-25T07:58:35.379379Z",
     "start_time": "2023-10-25T07:58:35.374105Z"
    }
   },
   "id": "4523bfb3dee91b59"
  },
  {
   "cell_type": "code",
   "execution_count": 34,
   "outputs": [
    {
     "name": "stdout",
     "output_type": "stream",
     "text": [
      "Training model with basic_lstm architecture...\n",
      "Epoch 1/3\n",
      "282/282 [==============================] - 24s 83ms/step - loss: 0.5398 - accuracy: 0.6856 - val_loss: 0.3108 - val_accuracy: 0.8777\n",
      "Epoch 2/3\n",
      "282/282 [==============================] - 25s 90ms/step - loss: 0.2429 - accuracy: 0.9112 - val_loss: 0.3144 - val_accuracy: 0.8863\n",
      "Epoch 3/3\n",
      "282/282 [==============================] - 25s 87ms/step - loss: 0.1338 - accuracy: 0.9573 - val_loss: 0.3520 - val_accuracy: 0.8763\n",
      "Training model with deeper_lstm architecture...\n",
      "Epoch 1/3\n",
      "282/282 [==============================] - 56s 194ms/step - loss: 0.4131 - accuracy: 0.7952 - val_loss: 0.2867 - val_accuracy: 0.8783\n",
      "Epoch 2/3\n",
      "282/282 [==============================] - 56s 199ms/step - loss: 0.1917 - accuracy: 0.9324 - val_loss: 0.3047 - val_accuracy: 0.8748\n",
      "Epoch 3/3\n",
      "282/282 [==============================] - 53s 189ms/step - loss: 0.1102 - accuracy: 0.9644 - val_loss: 0.3806 - val_accuracy: 0.8645\n",
      "Training model with bidirectional_lstm architecture...\n",
      "Epoch 1/3\n",
      "282/282 [==============================] - 29s 100ms/step - loss: 0.3935 - accuracy: 0.8161 - val_loss: 0.3045 - val_accuracy: 0.8740\n",
      "Epoch 2/3\n",
      "282/282 [==============================] - 30s 105ms/step - loss: 0.1861 - accuracy: 0.9331 - val_loss: 0.3193 - val_accuracy: 0.8767\n",
      "Epoch 3/3\n",
      "282/282 [==============================] - 30s 105ms/step - loss: 0.1070 - accuracy: 0.9651 - val_loss: 0.4350 - val_accuracy: 0.8712\n",
      "Training model with lstm_with_dropout architecture...\n",
      "Epoch 1/3\n",
      "282/282 [==============================] - 44s 152ms/step - loss: 0.6730 - accuracy: 0.5742 - val_loss: 0.6289 - val_accuracy: 0.6653\n",
      "Epoch 2/3\n",
      "282/282 [==============================] - 43s 151ms/step - loss: 0.6827 - accuracy: 0.5373 - val_loss: 0.6812 - val_accuracy: 0.5180\n",
      "Epoch 3/3\n",
      "282/282 [==============================] - 44s 155ms/step - loss: 0.6313 - accuracy: 0.6376 - val_loss: 0.5409 - val_accuracy: 0.7502\n"
     ]
    },
    {
     "data": {
      "text/plain": "<Figure size 1200x600 with 1 Axes>",
      "image/png": "[encoded data removed]"
     },
     "metadata": {},
     "output_type": "display_data"
    }
   ],
   "source": [
    "architecture_types = ['basic_lstm', 'deeper_lstm', 'bidirectional_lstm', 'lstm_with_dropout']\n",
    "train_accuracies = []\n",
    "val_accuracies = []\n",
    "\n",
    "for architecture_type in architecture_types:\n",
    "    print(f\"Training model with {architecture_type} architecture...\")\n",
    "    model = build_model(architecture_type)\n",
    "    history = model.fit(x_train, y_train, batch_size=128, epochs=3, verbose=1, validation_data=(x_val, y_val))\n",
    "\n",
    "    # Capturing accuracies from the training history\n",
    "    train_accuracies.append(history.history['accuracy'][-1])  # last epoch training accuracy\n",
    "    val_accuracies.append(history.history['val_accuracy'][-1])  # last epoch validation accuracy\n",
    "\n",
    "# Plotting the accuracies\n",
    "plt.figure(figsize=(12, 6))\n",
    "\n",
    "# Bar width\n",
    "bar_width = 0.35\n",
    "\n",
    "# Setting the positions of bars\n",
    "r1 = np.arange(len(architecture_types))\n",
    "r2 = [x + bar_width for x in r1]\n",
    "\n",
    "plt.bar(r1, train_accuracies, width=bar_width, color='blue', label='Training Accuracy')\n",
    "plt.bar(r2, val_accuracies, width=bar_width, color='green', label='Validation Accuracy')\n",
    "\n",
    "plt.xlabel('Architecture Type')\n",
    "plt.ylabel('Accuracy')\n",
    "plt.title('Comparison of Training and Validation Accuracies for Different Model Architectures')\n",
    "plt.xticks([r + bar_width for r in range(len(architecture_types))], architecture_types, rotation=45)\n",
    "plt.ylim([0.5, 1])  # assuming accuracy is between 0.5 and 1\n",
    "plt.legend()\n",
    "plt.tight_layout()\n",
    "plt.show()"
   ],
   "metadata": {
    "collapsed": false,
    "ExecuteTime": {
     "end_time": "2023-10-25T08:21:55.031740Z",
     "start_time": "2023-10-25T08:14:16.668017Z"
    }
   },
   "id": "f3f0b93f33471f31"
  },
  {
   "cell_type": "markdown",
   "source": [
    "On remarque que le modèle avec la meilleur accuracy est le modèle bidirectionnel.\n",
    "Cependant, on notera qu'ils sont tous très proches les uns des autres. Mis à part le modèle avec dropout (qui ajoute du bruit aux neurones) qui est bien moins bon."
   ],
   "metadata": {
    "collapsed": false
   },
   "id": "13923babe777d475"
  }
 ],
 "metadata": {
  "kernelspec": {
   "display_name": "Python 3",
   "language": "python",
   "name": "python3"
  },
  "language_info": {
   "codemirror_mode": {
    "name": "ipython",
    "version": 2
   },
   "file_extension": ".py",
   "mimetype": "text/x-python",
   "name": "python",
   "nbconvert_exporter": "python",
   "pygments_lexer": "ipython2",
   "version": "2.7.6"
  }
 },
 "nbformat": 4,
 "nbformat_minor": 5
}
