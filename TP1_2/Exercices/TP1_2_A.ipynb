{
 "cells": [
  {
   "cell_type": "markdown",
   "metadata": {},
   "source": [
    "# 1. Load and Explore the IMDB dataset"
   ]
  },
  {
   "cell_type": "code",
   "execution_count": 3,
   "metadata": {},
   "outputs": [
    {
     "name": "stdout",
     "output_type": "stream",
     "text": [
      "Downloading data from https://storage.googleapis.com/tensorflow/tf-keras-datasets/imdb.npz\n",
      "17464789/17464789 [==============================] - 2s 0us/step\n",
      "Number of training samples: 25000\n",
      "Number of test samples: 25000\n",
      "Length of first training sample: 218\n",
      "Length of second training sample: 189\n"
     ]
    }
   ],
   "source": [
    "import numpy as np\n",
    "import tensorflow as tf\n",
    "from tensorflow.keras.datasets import imdb\n",
    "from tensorflow.keras.preprocessing.sequence import pad_sequences\n",
    "import matplotlib.pyplot as plt\n",
    "\n",
    "# Load the IMDB dataset\n",
    "num_words = 10000\n",
    "(train_data, train_labels), (test_data, test_labels) = imdb.load_data(num_words=num_words)\n",
    "\n",
    "# Print basic statistics\n",
    "print(f\"Number of training samples: {len(train_data)}\")\n",
    "print(f\"Number of test samples: {len(test_data)}\")\n",
    "print(f\"Length of first training sample: {len(train_data[0])}\")\n",
    "print(f\"Length of second training sample: {len(train_data[1])}\")\n",
    "\n",
    "# Pad sequences so they have the same length\n",
    "max_length = 250\n",
    "train_data = pad_sequences(train_data, maxlen=max_length)\n",
    "test_data = pad_sequences(test_data, maxlen=max_length)\n"
   ]
  },
  {
   "cell_type": "markdown",
   "metadata": {},
   "source": [
    "# 2. Recover a Review"
   ]
  },
  {
   "cell_type": "code",
   "execution_count": 4,
   "metadata": {},
   "outputs": [
    {
     "name": "stdout",
     "output_type": "stream",
     "text": [
      "Downloading data from https://storage.googleapis.com/tensorflow/tf-keras-datasets/imdb_word_index.json\n",
      "1641221/1641221 [==============================] - 0s 0us/step\n",
      "? ? ? ? ? ? ? ? ? ? ? ? ? ? ? ? ? ? ? ? ? ? ? ? ? ? ? ? ? ? ? ? ? this film was just brilliant casting location scenery story direction everyone's really suited the part they played and you could just imagine being there robert ? is an amazing actor and now the same being director ? father came from the same scottish island as myself so i loved the fact there was a real connection with this film the witty remarks throughout the film were great it was just brilliant so much that i bought the film as soon as it was released for ? and would recommend it to everyone to watch and the fly fishing was amazing really cried at the end it was so sad and you know what they say if you cry at a film it must have been good and this definitely was also ? to the two little boy's that played the ? of norman and paul they were just brilliant children are often left out of the ? list i think because the stars that play them all grown up are such a big profile for the whole film but these children are amazing and should be praised for what they have done don't you think the whole story was so lovely because it was true and was someone's life after all that was shared with us all\n"
     ]
    }
   ],
   "source": [
    "def decode_review(text):\n",
    "    # Get the word index from the dataset\n",
    "    word_index = imdb.get_word_index()\n",
    "    # Reverse the word index\n",
    "    reversed_word_index = dict([(value, key) for (key, value) in word_index.items()])\n",
    "    # Decode the review\n",
    "    decoded_review = ' '.join([reversed_word_index.get(i - 3, '?') for i in text])\n",
    "    return decoded_review\n",
    "\n",
    "print(decode_review(train_data[0]))"
   ]
  },
  {
   "cell_type": "markdown",
   "metadata": {},
   "source": [
    "# 3. Experiment with Different Network Sizes"
   ]
  },
  {
   "cell_type": "code",
   "execution_count": 5,
   "metadata": {},
   "outputs": [],
   "source": [
    "from tensorflow.keras.models import Sequential\n",
    "from tensorflow.keras.layers import Dense, Embedding, Flatten\n",
    "\n",
    "def build_model(hidden_units):\n",
    "    model = Sequential()\n",
    "    model.add(Embedding(input_dim=num_words, output_dim=16, input_length=max_length))\n",
    "    model.add(Flatten())\n",
    "    for units in hidden_units:\n",
    "        model.add(Dense(units, activation='relu'))\n",
    "    model.add(Dense(1, activation='sigmoid'))\n",
    "    \n",
    "    model.compile(optimizer='adam', loss='binary_crossentropy', metrics=['accuracy'])\n",
    "    return model\n",
    "\n",
    "# Train a model with different hidden sizes for illustration\n",
    "model_small = build_model([16])\n",
    "model_medium = build_model([64, 64])\n",
    "model_large = build_model([128, 128, 128])\n"
   ]
  },
  {
   "cell_type": "code",
   "execution_count": null,
   "metadata": {},
   "outputs": [],
   "source": [
    "history = model_small.fit(train_data, train_labels, epochs=10, validation_data=(test_data, test_labels))\n",
    "\n",
    "plt.title('Model Small : Training and Validation Loss')\n",
    "plt.plot(history.history['accuracy'], label='Training Accuracy')\n",
    "plt.plot(history.history['val_accuracy'], label='Validation Accuracy')\n",
    "plt.legend()\n",
    "plt.show()"
   ]
  },
  {
   "cell_type": "code",
   "execution_count": null,
   "metadata": {},
   "outputs": [],
   "source": [
    "history = model_medium.fit(train_data, train_labels, epochs=10, validation_data=(test_data, test_labels))\n",
    "\n",
    "plt.title('Model Small : Training and Validation Loss')\n",
    "plt.plot(history.history['accuracy'], label='Training Accuracy')\n",
    "plt.plot(history.history['val_accuracy'], label='Validation Accuracy')\n",
    "plt.legend()\n",
    "plt.show()"
   ]
  },
  {
   "cell_type": "code",
   "execution_count": null,
   "metadata": {},
   "outputs": [],
   "source": [
    "history = model_large.fit(train_data, train_labels, epochs=10, validation_data=(test_data, test_labels))\n",
    "\n",
    "plt.title('Model Small : Training and Validation Loss')\n",
    "plt.plot(history.history['accuracy'], label='Training Accuracy')\n",
    "plt.plot(history.history['val_accuracy'], label='Validation Accuracy')\n",
    "plt.legend()\n",
    "plt.show()"
   ]
  },
  {
   "cell_type": "markdown",
   "metadata": {},
   "source": [
    "# 4. Introduce Overfitting\n",
    "\n",
    "Typically, a model will overfit if:\n",
    "\n",
    "- It has too many parameters (i.e., a large model).\n",
    "- It's trained for too many epochs.\n",
    "- There isn't enough training data.\n",
    "- \n",
    "Here's how you can train the larger model for more epochs to induce overfitting:"
   ]
  },
  {
   "cell_type": "code",
   "execution_count": 6,
   "metadata": {},
   "outputs": [
    {
     "name": "stdout",
     "output_type": "stream",
     "text": [
      "Epoch 1/50\n",
      "782/782 [==============================] - 7s 8ms/step - loss: 0.3927 - accuracy: 0.8053 - val_loss: 0.2964 - val_accuracy: 0.8764\n",
      "Epoch 2/50\n",
      "782/782 [==============================] - 6s 8ms/step - loss: 0.1322 - accuracy: 0.9516 - val_loss: 0.4024 - val_accuracy: 0.8562\n",
      "Epoch 3/50\n",
      "782/782 [==============================] - 6s 8ms/step - loss: 0.0335 - accuracy: 0.9883 - val_loss: 0.6044 - val_accuracy: 0.8472\n",
      "Epoch 4/50\n",
      "782/782 [==============================] - 6s 8ms/step - loss: 0.0208 - accuracy: 0.9926 - val_loss: 0.6485 - val_accuracy: 0.8516\n",
      "Epoch 5/50\n",
      "782/782 [==============================] - 6s 8ms/step - loss: 0.0145 - accuracy: 0.9948 - val_loss: 0.7453 - val_accuracy: 0.8509\n",
      "Epoch 6/50\n",
      "782/782 [==============================] - 6s 8ms/step - loss: 0.0144 - accuracy: 0.9950 - val_loss: 0.8476 - val_accuracy: 0.8400\n",
      "Epoch 7/50\n",
      "782/782 [==============================] - 6s 8ms/step - loss: 0.0103 - accuracy: 0.9964 - val_loss: 1.0202 - val_accuracy: 0.8439\n",
      "Epoch 8/50\n",
      "782/782 [==============================] - 7s 8ms/step - loss: 0.0077 - accuracy: 0.9972 - val_loss: 1.2196 - val_accuracy: 0.8464\n",
      "Epoch 9/50\n",
      "782/782 [==============================] - 7s 9ms/step - loss: 0.0101 - accuracy: 0.9963 - val_loss: 1.0926 - val_accuracy: 0.8456\n",
      "Epoch 10/50\n",
      "782/782 [==============================] - 7s 8ms/step - loss: 0.0064 - accuracy: 0.9980 - val_loss: 1.2640 - val_accuracy: 0.8427\n",
      "Epoch 11/50\n",
      "782/782 [==============================] - 7s 9ms/step - loss: 0.0078 - accuracy: 0.9973 - val_loss: 1.0360 - val_accuracy: 0.8442\n",
      "Epoch 12/50\n",
      "782/782 [==============================] - 7s 9ms/step - loss: 0.0060 - accuracy: 0.9976 - val_loss: 1.2169 - val_accuracy: 0.8402\n",
      "Epoch 13/50\n",
      "782/782 [==============================] - 7s 9ms/step - loss: 0.0080 - accuracy: 0.9970 - val_loss: 1.0171 - val_accuracy: 0.8307\n",
      "Epoch 14/50\n",
      "782/782 [==============================] - 7s 9ms/step - loss: 0.0082 - accuracy: 0.9974 - val_loss: 1.1244 - val_accuracy: 0.8381\n",
      "Epoch 15/50\n",
      "782/782 [==============================] - 7s 8ms/step - loss: 0.0036 - accuracy: 0.9989 - val_loss: 1.2606 - val_accuracy: 0.8386\n",
      "Epoch 16/50\n",
      "782/782 [==============================] - 7s 9ms/step - loss: 0.0047 - accuracy: 0.9983 - val_loss: 1.2089 - val_accuracy: 0.8420\n",
      "Epoch 17/50\n",
      "782/782 [==============================] - 7s 8ms/step - loss: 0.0044 - accuracy: 0.9983 - val_loss: 1.3103 - val_accuracy: 0.8375\n",
      "Epoch 18/50\n",
      "782/782 [==============================] - 7s 9ms/step - loss: 0.0064 - accuracy: 0.9979 - val_loss: 1.5370 - val_accuracy: 0.8420\n",
      "Epoch 19/50\n",
      "782/782 [==============================] - 7s 9ms/step - loss: 0.0035 - accuracy: 0.9989 - val_loss: 1.5908 - val_accuracy: 0.8428\n",
      "Epoch 20/50\n",
      "782/782 [==============================] - 7s 9ms/step - loss: 0.0020 - accuracy: 0.9994 - val_loss: 1.5987 - val_accuracy: 0.8420\n",
      "Epoch 21/50\n",
      "782/782 [==============================] - 7s 9ms/step - loss: 0.0020 - accuracy: 0.9995 - val_loss: 1.5667 - val_accuracy: 0.8358\n",
      "Epoch 22/50\n",
      "782/782 [==============================] - 7s 9ms/step - loss: 0.0057 - accuracy: 0.9981 - val_loss: 1.3652 - val_accuracy: 0.8394\n",
      "Epoch 23/50\n",
      "782/782 [==============================] - 7s 9ms/step - loss: 0.0031 - accuracy: 0.9989 - val_loss: 1.5180 - val_accuracy: 0.8412\n",
      "Epoch 24/50\n",
      "782/782 [==============================] - 7s 9ms/step - loss: 0.0028 - accuracy: 0.9990 - val_loss: 1.5842 - val_accuracy: 0.8378\n",
      "Epoch 25/50\n",
      "782/782 [==============================] - 7s 8ms/step - loss: 0.0040 - accuracy: 0.9986 - val_loss: 1.8618 - val_accuracy: 0.8283\n",
      "Epoch 26/50\n",
      "782/782 [==============================] - 6s 8ms/step - loss: 0.0041 - accuracy: 0.9986 - val_loss: 1.6572 - val_accuracy: 0.8391\n",
      "Epoch 27/50\n",
      "782/782 [==============================] - 7s 8ms/step - loss: 9.4639e-04 - accuracy: 0.9998 - val_loss: 2.2054 - val_accuracy: 0.8390\n",
      "Epoch 28/50\n",
      "782/782 [==============================] - 7s 9ms/step - loss: 2.6862e-05 - accuracy: 1.0000 - val_loss: 2.5631 - val_accuracy: 0.8388\n",
      "Epoch 29/50\n",
      "782/782 [==============================] - 7s 8ms/step - loss: 5.5179e-07 - accuracy: 1.0000 - val_loss: 2.5995 - val_accuracy: 0.8390\n",
      "Epoch 30/50\n",
      "782/782 [==============================] - 7s 9ms/step - loss: 3.6223e-07 - accuracy: 1.0000 - val_loss: 2.6390 - val_accuracy: 0.8391\n",
      "Epoch 31/50\n",
      "782/782 [==============================] - 7s 9ms/step - loss: 2.4550e-07 - accuracy: 1.0000 - val_loss: 2.6831 - val_accuracy: 0.8390\n",
      "Epoch 32/50\n",
      "782/782 [==============================] - 6s 8ms/step - loss: 1.6213e-07 - accuracy: 1.0000 - val_loss: 2.7362 - val_accuracy: 0.8390\n",
      "Epoch 33/50\n",
      "782/782 [==============================] - 7s 8ms/step - loss: 1.0648e-07 - accuracy: 1.0000 - val_loss: 2.7920 - val_accuracy: 0.8390\n",
      "Epoch 34/50\n",
      "782/782 [==============================] - 8s 10ms/step - loss: 6.9481e-08 - accuracy: 1.0000 - val_loss: 2.8516 - val_accuracy: 0.8390\n",
      "Epoch 35/50\n",
      "782/782 [==============================] - 9s 12ms/step - loss: 4.4942e-08 - accuracy: 1.0000 - val_loss: 2.9114 - val_accuracy: 0.8393\n",
      "Epoch 36/50\n",
      "782/782 [==============================] - 9s 12ms/step - loss: 2.9004e-08 - accuracy: 1.0000 - val_loss: 2.9755 - val_accuracy: 0.8393\n",
      "Epoch 37/50\n",
      "782/782 [==============================] - 9s 12ms/step - loss: 1.9099e-08 - accuracy: 1.0000 - val_loss: 3.0361 - val_accuracy: 0.8392\n",
      "Epoch 38/50\n",
      "782/782 [==============================] - 9s 12ms/step - loss: 1.2715e-08 - accuracy: 1.0000 - val_loss: 3.0958 - val_accuracy: 0.8390\n",
      "Epoch 39/50\n",
      "782/782 [==============================] - 9s 12ms/step - loss: 8.4813e-09 - accuracy: 1.0000 - val_loss: 3.1557 - val_accuracy: 0.8392\n",
      "Epoch 40/50\n",
      "782/782 [==============================] - 9s 12ms/step - loss: 5.6803e-09 - accuracy: 1.0000 - val_loss: 3.2136 - val_accuracy: 0.8392\n",
      "Epoch 41/50\n",
      "782/782 [==============================] - 9s 12ms/step - loss: 3.8965e-09 - accuracy: 1.0000 - val_loss: 3.2680 - val_accuracy: 0.8392\n",
      "Epoch 42/50\n",
      "782/782 [==============================] - 10s 12ms/step - loss: 2.6975e-09 - accuracy: 1.0000 - val_loss: 3.3220 - val_accuracy: 0.8392\n",
      "Epoch 43/50\n",
      "782/782 [==============================] - 9s 11ms/step - loss: 1.8945e-09 - accuracy: 1.0000 - val_loss: 3.3723 - val_accuracy: 0.8391\n",
      "Epoch 44/50\n",
      "782/782 [==============================] - 6s 8ms/step - loss: 1.3535e-09 - accuracy: 1.0000 - val_loss: 3.4211 - val_accuracy: 0.8393\n",
      "Epoch 45/50\n",
      "782/782 [==============================] - 7s 9ms/step - loss: 9.8422e-10 - accuracy: 1.0000 - val_loss: 3.4666 - val_accuracy: 0.8392\n",
      "Epoch 46/50\n",
      "782/782 [==============================] - 7s 8ms/step - loss: 7.2175e-10 - accuracy: 1.0000 - val_loss: 3.5109 - val_accuracy: 0.8391\n",
      "Epoch 47/50\n",
      "782/782 [==============================] - 8s 10ms/step - loss: 5.4367e-10 - accuracy: 1.0000 - val_loss: 3.5520 - val_accuracy: 0.8391\n",
      "Epoch 48/50\n",
      "782/782 [==============================] - 9s 12ms/step - loss: 4.1306e-10 - accuracy: 1.0000 - val_loss: 3.5910 - val_accuracy: 0.8390\n",
      "Epoch 49/50\n",
      "782/782 [==============================] - 9s 12ms/step - loss: 3.2129e-10 - accuracy: 1.0000 - val_loss: 3.6284 - val_accuracy: 0.8390\n",
      "Epoch 50/50\n",
      "782/782 [==============================] - 9s 12ms/step - loss: 2.5219e-10 - accuracy: 1.0000 - val_loss: 3.6639 - val_accuracy: 0.8389\n"
     ]
    },
    {
     "data": {
      "image/png": "[encoded data removed]",
      "text/plain": [
       "<Figure size 640x480 with 1 Axes>"
      ]
     },
     "metadata": {},
     "output_type": "display_data"
    }
   ],
   "source": [
    "history_large = model_large.fit(train_data, train_labels, epochs=50, validation_data=(test_data, test_labels))\n",
    "\n",
    "plt.title('Training and Validation Loss')\n",
    "plt.plot(history_large.history['accuracy'], label='Training Accuracy')\n",
    "plt.plot(history_large.history['val_accuracy'], label='Validation Accuracy')\n",
    "plt.legend()\n",
    "plt.show()\n"
   ]
  },
  {
   "cell_type": "markdown",
   "metadata": {},
   "source": [
    "Here we can see the effect of overfitting. The yellow show the validation accuracy and the blue shows the training accuracy. The validation accuracy decreases while the training accuracy increases. This is a clear sign of overfitting.\n",
    "\n",
    "For preventing overfitting, there are many techniques including:\n",
    "\n",
    "- Regularization\n",
    "- Dropout\n",
    "- Early stopping\n",
    "- Using more training data or augmenting existing data\n",
    "- Using simpler model architectures.\n",
    "\n",
    "Remember, it's important to always validate the model on unseen data to understand how it's likely to perform in a real-world scenario."
   ]
  }
 ],
 "metadata": {
  "kernelspec": {
   "display_name": "Python 3",
   "language": "python",
   "name": "python3"
  },
  "language_info": {
   "codemirror_mode": {
    "name": "ipython",
    "version": 3
   },
   "file_extension": ".py",
   "mimetype": "text/x-python",
   "name": "python",
   "nbconvert_exporter": "python",
   "pygments_lexer": "ipython3",
   "version": "3.11.4"
  }
 },
 "nbformat": 4,
 "nbformat_minor": 2
}
